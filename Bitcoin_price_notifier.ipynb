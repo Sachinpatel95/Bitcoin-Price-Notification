{
  "nbformat": 4,
  "nbformat_minor": 0,
  "metadata": {
    "colab": {
      "name": "Bitcoin_price_notifier.ipynb",
      "provenance": [],
      "collapsed_sections": []
    },
    "kernelspec": {
      "name": "python3",
      "display_name": "Python 3"
    },
    "language_info": {
      "name": "python"
    }
  },
  "cells": [
    {
      "cell_type": "code",
      "metadata": {
        "id": "qEF4D158_T-y"
      },
      "source": [
        "# using request module to request the url.\n",
        "import requests\n",
        "\n",
        "# using time and datetime module to show the current date and time \n",
        "import time\n",
        "import datetime \n",
        "    \n",
        "# using this module to show the timezone() of particular area\n",
        "import pytz "
      ],
      "execution_count": 14,
      "outputs": []
    },
    {
      "cell_type": "code",
      "metadata": {
        "id": "8R9v2LCI_cDu"
      },
      "source": [
        "# global variables\n",
        "\n",
        "# using the api key of coinmarketcap website to fetch the live data (confidential)\n",
        "api_key = 'e28d8fbf-271d-4958-83cd-11be698f38e6'\n",
        "\n",
        "# using the token of telegram app to get the output in the app\n",
        "bot_token = '2064974965:AAG-ad5w7tcB1HqT_HLy6vTAoCL1242FUwQ'\n",
        "\n",
        "# using chat id to get the output in our telegram app only (confidential)\n",
        "chat_id = '666681508'\n",
        "\n",
        "# setting the threshold value to a certain number so that of price fluctuates you can get the message accordingly\n",
        "threshold = 40000\n",
        "\n",
        "# setting the time interval for the value to be updated at this interval\n",
        "time_interval = 1 * 60 # in seconds"
      ],
      "execution_count": 15,
      "outputs": []
    },
    {
      "cell_type": "code",
      "metadata": {
        "id": "kLbM6BMn_foC"
      },
      "source": [
        "# creating the function to get the bitcoin price\n",
        "def get_bitcoin_price():\n",
        "\n",
        "    # using the url of the coinmarketcap API\n",
        "    url = 'https://pro-api.coinmarketcap.com/v1/cryptocurrency/listings/latest'\n",
        "    headers = {\n",
        "        'Accepts': 'application/json',\n",
        "        'X-CMC_PRO_API_KEY': api_key\n",
        "    }\n",
        "    \n",
        "    # making a request to the coinmarketcap api\n",
        "    response = requests.get(url, headers=headers)\n",
        "    response_json = response.json()\n",
        "    \n",
        "    # extracting the bitcoin price from the json data collected\n",
        "    btc_price = response_json['data'][0]\n",
        "\n",
        "    # returing the USD price of the bitcoin\n",
        "    return btc_price['quote']['USD']['price']"
      ],
      "execution_count": 23,
      "outputs": []
    },
    {
      "cell_type": "code",
      "metadata": {
        "id": "LY1YIqS1_kCR"
      },
      "source": [
        "# creating thisfunction to send_message through telegram\n",
        "def send_message(chat_id, msg):\n",
        "     url = f\"https://api.telegram.org/bot{bot_token}/sendMessage?chat_id={chat_id}&text={msg}\"\n",
        "    \n",
        "    # this line sendsthe msg to the telegram chat id of the user\n",
        "     requests.get(url)"
      ],
      "execution_count": 21,
      "outputs": []
    },
    {
      "cell_type": "code",
      "metadata": {
        "id": "0fWV6Kxw_nCa"
      },
      "source": [
        "# main function for execution\n",
        "def main():\n",
        "    price_list = []\n",
        "\n",
        "    # using now() function to get current time \n",
        "    current_time = datetime.datetime.now(pytz.timezone('Asia/Kolkata')) \n",
        "        \n",
        "    # printing current time in india \n",
        "    c_time = current_time.strftime(\"%H:%M:%S\") \n",
        "    \n",
        "    # infinite loop\n",
        "    while True:\n",
        "        price = get_bitcoin_price()\n",
        "\n",
        "        # output format\n",
        "        value = \"BITCOIN (BTC) ----- Time : {} ----- Price : {:.2f} ($USD)\".format(c_time, price)\n",
        "        price_list.append(value)\n",
        "        \n",
        "        # if the price of the bitcoin falls below threshold value, an immediate message will be sent to the user \n",
        "        if price < threshold:\n",
        "            send_message(chat_id=chat_id, msg=f'BTC Price Drop Alert: {price}')\n",
        "\n",
        "        # this coindition sends last 5 bitcoin price to the user\n",
        "        if len(price_list) >= 5:\n",
        "            send_message(chat_id=chat_id, msg=price_list)\n",
        "            # after sending the price message to the user we have to empty the price_list for next updates.\n",
        "            price_list = []\n",
        "        \n",
        "        # fetch the price for every dash minutes\n",
        "        time.sleep(time_interval)"
      ],
      "execution_count": 20,
      "outputs": []
    },
    {
      "cell_type": "code",
      "metadata": {
        "id": "bbVR5B2T_pqw",
        "colab": {
          "base_uri": "https://localhost:8080/",
          "height": 292
        },
        "outputId": "874835ae-bde1-4319-d58c-56a2b56513ed"
      },
      "source": [
        "# activating the main() function\n",
        "if __name__ == '__main__':\n",
        "  main()"
      ],
      "execution_count": 25,
      "outputs": [
        {
          "output_type": "error",
          "ename": "KeyboardInterrupt",
          "evalue": "ignored",
          "traceback": [
            "\u001b[0;31m---------------------------------------------------------------------------\u001b[0m",
            "\u001b[0;31mKeyboardInterrupt\u001b[0m                         Traceback (most recent call last)",
            "\u001b[0;32m<ipython-input-25-63b4cfad086d>\u001b[0m in \u001b[0;36m<module>\u001b[0;34m()\u001b[0m\n\u001b[1;32m      1\u001b[0m \u001b[0;31m# activating the main() function\u001b[0m\u001b[0;34m\u001b[0m\u001b[0;34m\u001b[0m\u001b[0;34m\u001b[0m\u001b[0m\n\u001b[1;32m      2\u001b[0m \u001b[0;32mif\u001b[0m \u001b[0m__name__\u001b[0m \u001b[0;34m==\u001b[0m \u001b[0;34m'__main__'\u001b[0m\u001b[0;34m:\u001b[0m\u001b[0;34m\u001b[0m\u001b[0;34m\u001b[0m\u001b[0m\n\u001b[0;32m----> 3\u001b[0;31m   \u001b[0mmain\u001b[0m\u001b[0;34m(\u001b[0m\u001b[0;34m)\u001b[0m\u001b[0;34m\u001b[0m\u001b[0;34m\u001b[0m\u001b[0m\n\u001b[0m",
            "\u001b[0;32m<ipython-input-20-4181c62259e7>\u001b[0m in \u001b[0;36mmain\u001b[0;34m()\u001b[0m\n\u001b[1;32m     28\u001b[0m \u001b[0;34m\u001b[0m\u001b[0m\n\u001b[1;32m     29\u001b[0m         \u001b[0;31m# fetch the price for every dash minutes\u001b[0m\u001b[0;34m\u001b[0m\u001b[0;34m\u001b[0m\u001b[0;34m\u001b[0m\u001b[0m\n\u001b[0;32m---> 30\u001b[0;31m         \u001b[0mtime\u001b[0m\u001b[0;34m.\u001b[0m\u001b[0msleep\u001b[0m\u001b[0;34m(\u001b[0m\u001b[0mtime_interval\u001b[0m\u001b[0;34m)\u001b[0m\u001b[0;34m\u001b[0m\u001b[0;34m\u001b[0m\u001b[0m\n\u001b[0m",
            "\u001b[0;31mKeyboardInterrupt\u001b[0m: "
          ]
        }
      ]
    },
    {
      "cell_type": "code",
      "metadata": {
        "id": "qK0dTYcrqaRR"
      },
      "source": [
        ""
      ],
      "execution_count": null,
      "outputs": []
    }
  ]
}